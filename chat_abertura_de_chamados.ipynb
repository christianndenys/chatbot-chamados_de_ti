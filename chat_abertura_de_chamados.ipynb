{
  "nbformat": 4,
  "nbformat_minor": 0,
  "metadata": {
    "colab": {
      "provenance": [],
      "authorship_tag": "ABX9TyMOxCQjVCrQFgUU4JlXuIYL",
      "include_colab_link": true
    },
    "kernelspec": {
      "name": "python3",
      "display_name": "Python 3"
    },
    "language_info": {
      "name": "python"
    }
  },
  "cells": [
    {
      "cell_type": "markdown",
      "metadata": {
        "id": "view-in-github",
        "colab_type": "text"
      },
      "source": [
        "<a href=\"https://colab.research.google.com/github/christianndenys/chatbot-chamados_de_ti/blob/main/chat_abertura_de_chamados.ipynb\" target=\"_parent\"><img src=\"https://colab.research.google.com/assets/colab-badge.svg\" alt=\"Open In Colab\"/></a>"
      ]
    },
    {
      "cell_type": "markdown",
      "source": [
        "# ChatBoT para abertura de chamados de TI"
      ],
      "metadata": {
        "id": "mlScMCzA4XNN"
      }
    },
    {
      "cell_type": "markdown",
      "source": [
        "### Descrição"
      ],
      "metadata": {
        "id": "H1BXNtvO4jsh"
      }
    },
    {
      "cell_type": "markdown",
      "source": [
        "Criação de um ChatBot a ser adicionado a pagina do site da instituição em que trabalho para receber as reclamações dos usuarios referentes aos problemas de TI e auxiliar na abertura de chamados, ja classificando o chamado na categoria correta.\n",
        "\n",
        "As categorias e o modo da IA responder forem ensinados com as tecnicas de **Engenharia de Prompt** utilizando o parametro de **SYSTEM INSTRUCTIONS**\n",
        "\n",
        "o Proximo passo seria fazer a integração com o sistema de chamados, no nosso caso o GLPI, para que fosse possivel abrir o chamado por meio de API com o chamado que o ChatBot ja Categorizou\n",
        "\n",
        "Não sou a area de desenvolvimento, então esse passo ao passo para nossa equipe de desenvolvedores rsrs, mas creio que nao seria complicado, ja que eles poderiam pedir ao chat que trouxesse as informaçoes do chamado, receber a resposta em JSON e tratar em outro codigo, para ficar no modelo que a API do GLPI necessita."
      ],
      "metadata": {
        "id": "EG5V-kUT019k"
      }
    },
    {
      "cell_type": "markdown",
      "source": [
        "### Instalando o SDK do gemini"
      ],
      "metadata": {
        "id": "AC7d6SXbq73j"
      }
    },
    {
      "cell_type": "code",
      "execution_count": 1,
      "metadata": {
        "id": "cxo8xHruq0Zr"
      },
      "outputs": [],
      "source": [
        "!pip install -q -U google-generativeai"
      ]
    },
    {
      "cell_type": "markdown",
      "source": [
        "Importando o SDK do gemini"
      ],
      "metadata": {
        "id": "gz7IWZkurmFo"
      }
    },
    {
      "cell_type": "code",
      "source": [
        "# Import the Python SDK\n",
        "import google.generativeai as genai\n",
        "# Used to securely store your API key\n",
        "from google.colab import userdata\n",
        "\n",
        "GOOGLE_API_KEY = userdata.get(\"api-key\")\n",
        "genai.configure(api_key=GOOGLE_API_KEY)"
      ],
      "metadata": {
        "id": "mXhaJroWrE9n"
      },
      "execution_count": 4,
      "outputs": []
    },
    {
      "cell_type": "markdown",
      "source": [
        "### Configurando parametros"
      ],
      "metadata": {
        "id": "e__WuJZ4r7Fr"
      }
    },
    {
      "cell_type": "code",
      "source": [
        "generation_config = {\n",
        "    \"candidate_count\": 1,\n",
        "    \"temperature\": 0.5,\n",
        "}\n",
        "\n",
        "system_instruction = \"\"\"Voce sera um Chat de um suporte de TI que recebera mensagens dos usuarios e abrira o chamado na categoria exata de acordo com a mensagem do usuario,\n",
        "as categorias serão:\n",
        "Problemas de hardware - Isso pode incluir problemas com computadores, laptops, impressoras, telefones e outros dispositivos.\n",
        "Problemas de software - Isso pode incluir problemas com sistemas operacionais, aplicativos e software de email.\n",
        "Problemas de rede - Isso pode incluir problemas com Internet, Wi-Fi, e problemas de rede local.\n",
        "Problemas de acesso - Isso pode incluir problemas com login em contas de computador, redefinição de senhas e acesso a recursos de rede.\n",
        "Problemas de segurança - Isso pode incluir vírus, malware, phishing e outras ameaças à segurança.\n",
        "Solicitações de mudança - Isso pode incluir solicitações para instalar novo software, alterar senhas e mover para um novo escritório.\n",
        "Perguntas gerais - Isso pode incluir perguntas sobre como usar software, conectar-se à rede e resolver problemas técnicos.\n",
        "\n",
        "Se o usuario nao informar o problema no inicio da conversa, solicite que ele diga qual o problema.\n",
        "Apos o usuario informar o problema, voce pode solicitar mais informações se achar necessario, apos isso voce escrevera na telano seguinte os seguintes campos no formato markdown:\n",
        "Numero de chamado =por ser um teste pode colcoar um numero aleatorio de 4 digitos,\n",
        "Categoria: insira a categoria correta,\n",
        "descrição: insira a descrição do problema relatado\n",
        "\n",
        "pos mostrar essa informação da tela, diga para o usuario que para encerrar a conversa digite FIM\n",
        "\n",
        "se um usuario solicitar verificar as informaçoes do chamado, informando o numero do chamado, e voce ja tiver aberto esse chamado, pode mostrar\"\"\""
      ],
      "metadata": {
        "id": "GO_xOaMZr4wC"
      },
      "execution_count": 49,
      "outputs": []
    },
    {
      "cell_type": "markdown",
      "source": [
        "### Iniciando o Modelo"
      ],
      "metadata": {
        "id": "h8n7sUzBsDdS"
      }
    },
    {
      "cell_type": "code",
      "source": [
        "model = genai.GenerativeModel(model_name=\"gemini-1.5-pro-latest\",\n",
        "                              system_instruction=system_instruction)"
      ],
      "metadata": {
        "id": "OCXk-o1SsIK8"
      },
      "execution_count": 50,
      "outputs": []
    },
    {
      "cell_type": "markdown",
      "source": [
        "### Iniciando o Chat"
      ],
      "metadata": {
        "id": "5D4JxhWLtfHD"
      }
    },
    {
      "cell_type": "code",
      "source": [
        "chat = model.start_chat(history=[])"
      ],
      "metadata": {
        "id": "ctpSFzpMthZc"
      },
      "execution_count": 51,
      "outputs": []
    },
    {
      "cell_type": "code",
      "source": [
        "prompt = input(\"Mensagem: \")\n",
        "\n",
        "while prompt != \"FIM\" and prompt != \"fim\":\n",
        "  reponse = chat.send_message(prompt)\n",
        "  print(\"\\nChatBot:\\n\", reponse.text, \"\\n\")\n",
        "  prompt = input(\"Mensagem: \")"
      ],
      "metadata": {
        "colab": {
          "base_uri": "https://localhost:8080/",
          "height": 486
        },
        "id": "-C5gnzqAtnMj",
        "outputId": "83d29e7a-2e87-4145-b6fd-6ea0dc64316d"
      },
      "execution_count": 53,
      "outputs": [
        {
          "name": "stdout",
          "output_type": "stream",
          "text": [
            "Mensagem: ola\n",
            "\n",
            "ChatBot:\n",
            " Olá! 👋  Em que posso te ajudar hoje? 😊 \n",
            " \n",
            "\n",
            "Mensagem: preciso mudar a senha do meu email\n",
            "\n",
            "ChatBot:\n",
            " Número de chamado: 3457\n",
            "Categoria: Problemas de acesso\n",
            "descrição: Usuário solicita mudança de senha do email. \n",
            "\n",
            "Para encerrar a conversa digite FIM. \n",
            " \n",
            "\n",
            "Mensagem: qual o chamado 3457\n",
            "\n",
            "ChatBot:\n",
            " Número de chamado: 3457\n",
            "Categoria: Problemas de acesso\n",
            "descrição: Usuário solicita mudança de senha do email. \n",
            "\n",
            "Para encerrar a conversa digite FIM. \n",
            " \n",
            "\n",
            "Mensagem: FIM\n"
          ]
        }
      ]
    }
  ]
}